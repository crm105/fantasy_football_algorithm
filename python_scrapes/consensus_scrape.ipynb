{
 "cells": [
  {
   "cell_type": "code",
   "execution_count": 109,
   "metadata": {},
   "outputs": [
    {
     "name": "stderr",
     "output_type": "stream",
     "text": [
      "C:\\Users\\montg\\Anaconda3\\lib\\site-packages\\ipykernel_launcher.py:18: DeprecationWarning: use driver.switch_to.window instead\n",
      "C:\\Users\\montg\\Anaconda3\\lib\\site-packages\\ipykernel_launcher.py:23: DeprecationWarning: use driver.switch_to.window instead\n"
     ]
    },
    {
     "ename": "IndexError",
     "evalue": "list index out of range",
     "output_type": "error",
     "traceback": [
      "\u001b[1;31m---------------------------------------------------------------------------\u001b[0m",
      "\u001b[1;31mIndexError\u001b[0m                                Traceback (most recent call last)",
      "\u001b[1;32m<ipython-input-109-582c9c7fede2>\u001b[0m in \u001b[0;36m<module>\u001b[1;34m\u001b[0m\n\u001b[0;32m     31\u001b[0m \u001b[1;33m\u001b[0m\u001b[0m\n\u001b[0;32m     32\u001b[0m     \u001b[0mbrowser\u001b[0m\u001b[1;33m.\u001b[0m\u001b[0mfind_elements_by_name\u001b[0m\u001b[1;33m(\u001b[0m\u001b[1;34m\"expert[]\"\u001b[0m\u001b[1;33m)\u001b[0m\u001b[1;33m[\u001b[0m\u001b[0mn\u001b[0m\u001b[1;33m]\u001b[0m\u001b[1;33m.\u001b[0m\u001b[0mclick\u001b[0m\u001b[1;33m(\u001b[0m\u001b[1;33m)\u001b[0m\u001b[1;33m\u001b[0m\u001b[1;33m\u001b[0m\u001b[0m\n\u001b[1;32m---> 33\u001b[1;33m     \u001b[0mbrowser\u001b[0m\u001b[1;33m.\u001b[0m\u001b[0mfind_elements_by_name\u001b[0m\u001b[1;33m(\u001b[0m\u001b[1;34m\"expert[]\"\u001b[0m\u001b[1;33m)\u001b[0m\u001b[1;33m[\u001b[0m\u001b[0mn\u001b[0m\u001b[1;33m+\u001b[0m \u001b[1;36m1\u001b[0m\u001b[1;33m]\u001b[0m\u001b[1;33m.\u001b[0m\u001b[0mclick\u001b[0m\u001b[1;33m(\u001b[0m\u001b[1;33m)\u001b[0m\u001b[1;33m\u001b[0m\u001b[1;33m\u001b[0m\u001b[0m\n\u001b[0m\u001b[0;32m     34\u001b[0m     \u001b[0mbrowser\u001b[0m\u001b[1;33m.\u001b[0m\u001b[0mfind_element_by_partial_link_text\u001b[0m\u001b[1;33m(\u001b[0m\u001b[1;34m\"Update\"\u001b[0m\u001b[1;33m)\u001b[0m\u001b[1;33m.\u001b[0m\u001b[0mclick\u001b[0m\u001b[1;33m(\u001b[0m\u001b[1;33m)\u001b[0m\u001b[1;33m\u001b[0m\u001b[1;33m\u001b[0m\u001b[0m\n\u001b[0;32m     35\u001b[0m     \u001b[0mtime\u001b[0m\u001b[1;33m.\u001b[0m\u001b[0msleep\u001b[0m\u001b[1;33m(\u001b[0m\u001b[1;36m2\u001b[0m\u001b[1;33m)\u001b[0m\u001b[1;33m\u001b[0m\u001b[1;33m\u001b[0m\u001b[0m\n",
      "\u001b[1;31mIndexError\u001b[0m: list index out of range"
     ]
    }
   ],
   "source": [
    "from selenium import webdriver\n",
    "import time\n",
    "\n",
    "n = 0\n",
    "for i in range(1,200):\n",
    "    \n",
    "    browser = webdriver.Chrome(\"C:\\chromedriver.exe\")\n",
    "    browser.get('https://www.fantasypros.com/nfl/rankings/consensus-cheatsheets.php?')\n",
    "\n",
    "#time.sleep(5)\n",
    "    browser.find_element_by_partial_link_text(\"Pick\").click()\n",
    "    time.sleep(3)\n",
    "    browser.find_element_by_id(\"select-all\").click()\n",
    "    time.sleep(2)\n",
    "    browser.find_element_by_partial_link_text(\"FACEBOOK\").click()\n",
    "#print(browser.window_handles)\n",
    "    time.sleep(5)\n",
    "    browser.switch_to_window(browser.window_handles[1])\n",
    "    browser.find_element_by_id (\"email\").send_keys(\"cboogs1234@yahoo.com\")\n",
    "    browser.find_element_by_id(\"pass\").send_keys(\"SexyShrimp123\")\n",
    "    browser.find_element_by_name(\"login\").click()\n",
    "\n",
    "    browser.switch_to_window(browser.window_handles[0])\n",
    "\n",
    "\n",
    "\n",
    "    browser.find_element_by_partial_link_text(\"Pick\").click()\n",
    "    time.sleep(3)\n",
    "    browser.find_element_by_id(\"select-all\").click()\n",
    "    browser.find_element_by_id(\"select-all\").click()\n",
    "    \n",
    "    browser.find_elements_by_name(\"expert[]\")[n].click()\n",
    "    browser.find_elements_by_name(\"expert[]\")[n+ 1].click()\n",
    "    browser.find_element_by_partial_link_text(\"Update\").click()\n",
    "    time.sleep(2)\n",
    "    browser.find_element_by_partial_link_text(\"Options\").click()\n",
    "    time.sleep(2)\n",
    "    browser.find_element_by_partial_link_text(\"Download CSV\").click()\n",
    "    time.sleep(10)\n",
    "    n = n + 2\n",
    "    browser.close()\n",
    "\n",
    "\n",
    "\n"
   ]
  },
  {
   "cell_type": "code",
   "execution_count": null,
   "metadata": {},
   "outputs": [],
   "source": []
  }
 ],
 "metadata": {
  "kernelspec": {
   "display_name": "Python 3",
   "language": "python",
   "name": "python3"
  },
  "language_info": {
   "codemirror_mode": {
    "name": "ipython",
    "version": 3
   },
   "file_extension": ".py",
   "mimetype": "text/x-python",
   "name": "python",
   "nbconvert_exporter": "python",
   "pygments_lexer": "ipython3",
   "version": "3.7.1"
  }
 },
 "nbformat": 4,
 "nbformat_minor": 2
}
