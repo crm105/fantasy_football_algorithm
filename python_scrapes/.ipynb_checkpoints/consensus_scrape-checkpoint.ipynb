{
 "cells": [
  {
   "cell_type": "code",
   "execution_count": null,
   "metadata": {},
   "outputs": [],
   "source": [
    "from selenium import webdriver\n",
    "import time\n",
    "\n",
    "n = 0\n",
    "for i in range(1,200):\n",
    "    \n",
    "    browser = webdriver.Chrome(\"C:\\chromedriver.exe\")\n",
    "    browser.get('https://www.fantasypros.com/nfl/rankings/consensus-cheatsheets.php?')\n",
    "\n",
    "#time.sleep(5)\n",
    "    browser.find_element_by_partial_link_text(\"Pick\").click()\n",
    "    time.sleep(3)\n",
    "    browser.find_element_by_id(\"select-all\").click()\n",
    "    time.sleep(2)\n",
    "    browser.find_element_by_partial_link_text(\"FACEBOOK\").click()\n",
    "#print(browser.window_handles)\n",
    "    time.sleep(5)\n",
    "    browser.switch_to_window(browser.window_handles[1])\n",
    "    browser.find_element_by_id (\"email\").send_keys(\"cboogs1234@yahoo.com\")\n",
    "    browser.find_element_by_id(\"pass\").send_keys(\"SexyShrimp123\")\n",
    "    browser.find_element_by_name(\"login\").click()\n",
    "\n",
    "    browser.switch_to_window(browser.window_handles[0])\n",
    "\n",
    "\n",
    "\n",
    "    browser.find_element_by_partial_link_text(\"Pick\").click()\n",
    "    time.sleep(3)\n",
    "    browser.find_element_by_id(\"select-all\").click()\n",
    "    browser.find_element_by_id(\"select-all\").click()\n",
    "    \n",
    "    browser.find_elements_by_name(\"expert[]\")[n].click()\n",
    "    browser.find_elements_by_name(\"expert[]\")[n+ 1].click()\n",
    "    browser.find_element_by_partial_link_text(\"Update\").click()\n",
    "    time.sleep(2)\n",
    "    browser.find_element_by_partial_link_text(\"Options\").click()\n",
    "    time.sleep(2)\n",
    "    browser.find_element_by_partial_link_text(\"Download CSV\").click()\n",
    "    time.sleep(10)\n",
    "    n = n + 2\n",
    "    browser.close()\n",
    "\n",
    "\n",
    "\n"
   ]
  },
  {
   "cell_type": "code",
   "execution_count": null,
   "metadata": {},
   "outputs": [],
   "source": []
  }
 ],
 "metadata": {
  "kernelspec": {
   "display_name": "Python 3",
   "language": "python",
   "name": "python3"
  },
  "language_info": {
   "codemirror_mode": {
    "name": "ipython",
    "version": 3
   },
   "file_extension": ".py",
   "mimetype": "text/x-python",
   "name": "python",
   "nbconvert_exporter": "python",
   "pygments_lexer": "ipython3",
   "version": "3.7.1"
  }
 },
 "nbformat": 4,
 "nbformat_minor": 2
}
