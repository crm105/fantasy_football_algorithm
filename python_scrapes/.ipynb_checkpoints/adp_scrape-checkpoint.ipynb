{
 "cells": [
  {
   "cell_type": "code",
   "execution_count": 8,
   "metadata": {},
   "outputs": [],
   "source": [
    "import pandas as pd\n",
    "import re\n",
    "import requests\n",
    "import difflib\n",
    "import numpy as np\n",
    "\n",
    "pd.set_option('display.max_rows', 500)\n",
    "pd.set_option('display.max_columns', 500)\n",
    "pd.set_option('display.width', 1000)"
   ]
  },
  {
   "cell_type": "code",
   "execution_count": 10,
   "metadata": {},
   "outputs": [
    {
     "ename": "NameError",
     "evalue": "name 'proj_names' is not defined",
     "output_type": "error",
     "traceback": [
      "\u001b[1;31m---------------------------------------------------------------------------\u001b[0m",
      "\u001b[1;31mNameError\u001b[0m                                 Traceback (most recent call last)",
      "\u001b[1;32m<ipython-input-10-32f9efa2df05>\u001b[0m in \u001b[0;36m<module>\u001b[1;34m\u001b[0m\n\u001b[0;32m     55\u001b[0m \u001b[0mdf\u001b[0m \u001b[1;33m=\u001b[0m \u001b[0mffc\u001b[0m\u001b[1;33m.\u001b[0m\u001b[0mmerge\u001b[0m\u001b[1;33m(\u001b[0m\u001b[0mfp\u001b[0m\u001b[1;33m)\u001b[0m\u001b[1;33m\u001b[0m\u001b[1;33m\u001b[0m\u001b[0m\n\u001b[0;32m     56\u001b[0m \u001b[0mproj\u001b[0m \u001b[1;33m=\u001b[0m \u001b[0mpd\u001b[0m\u001b[1;33m.\u001b[0m\u001b[0mread_csv\u001b[0m\u001b[1;33m(\u001b[0m\u001b[1;34m'../projections.csv'\u001b[0m\u001b[1;33m)\u001b[0m\u001b[1;33m\u001b[0m\u001b[1;33m\u001b[0m\u001b[0m\n\u001b[1;32m---> 57\u001b[1;33m \u001b[0mproj_names\u001b[0m \u001b[1;33m=\u001b[0m \u001b[0mproj_names\u001b[0m\u001b[1;33m.\u001b[0m\u001b[0mappend\u001b[0m\u001b[1;33m(\u001b[0m \u001b[1;33m{\u001b[0m\u001b[1;34m\"name\"\u001b[0m\u001b[1;33m:\u001b[0m\u001b[1;34m\"FARTy MCFA\"\u001b[0m\u001b[1;33m,\u001b[0m \u001b[1;34m\"rank\"\u001b[0m\u001b[1;33m:\u001b[0m\u001b[1;36m200\u001b[0m\u001b[1;33m}\u001b[0m\u001b[1;33m,\u001b[0m \u001b[0mignore_index\u001b[0m \u001b[1;33m=\u001b[0m \u001b[1;32mTrue\u001b[0m\u001b[1;33m)\u001b[0m\u001b[1;33m\u001b[0m\u001b[1;33m\u001b[0m\u001b[0m\n\u001b[0m\u001b[0;32m     58\u001b[0m \u001b[0mproj\u001b[0m \u001b[1;33m=\u001b[0m \u001b[0mproj\u001b[0m\u001b[1;33m.\u001b[0m\u001b[0mdropna\u001b[0m\u001b[1;33m(\u001b[0m\u001b[1;33m)\u001b[0m\u001b[1;33m\u001b[0m\u001b[1;33m\u001b[0m\u001b[0m\n\u001b[0;32m     59\u001b[0m \u001b[0mrem_name\u001b[0m \u001b[1;33m=\u001b[0m \u001b[1;33m[\u001b[0m\u001b[1;33m]\u001b[0m\u001b[1;33m\u001b[0m\u001b[1;33m\u001b[0m\u001b[0m\n",
      "\u001b[1;31mNameError\u001b[0m: name 'proj_names' is not defined"
     ]
    }
   ],
   "source": [
    "header = {\n",
    "  \"User-Agent\": \"Mozilla/5.0 (X11; Linux x86_64) AppleWebKit/537.36 (KHTML, like Gecko) Chrome/50.0.2661.75 Safari/537.36\",\n",
    "  \"X-Requested-With\": \"XMLHttpRequest\"\n",
    "}\n",
    "\n",
    "r = requests.get('https://fantasyfootballcalculator.com/adp', headers=header)\n",
    "ffc = pd.read_html(r.text, header = 0); ffc = ffc[0]\n",
    "\n",
    "ffc = ffc[['Pick', 'Name', 'Overall', 'Std.Dev', 'High', 'Low']]\n",
    "ffc = ffc.rename(columns = {'Name': 'name'})\n",
    "\n",
    "\n",
    "r = requests.get('https://www.fantasypros.com/nfl/adp/overall', headers=header)\n",
    "\n",
    "fp = pd.read_html(r.text)[0]\n",
    "fp['Player Team (Bye)'] = fp.iloc[:,1].astype('str')\n",
    "name = []\n",
    "for i in range(0,len(fp)):\n",
    "    try: \n",
    "        name.append (re.findall('(.*?)\\s[A-Z][A-Z]', fp.iloc[i,1])[0])\n",
    "    except:\n",
    "        name.append(\"\")\n",
    "    \n",
    "\n",
    "fp['name'] = name\n",
    "fp = fp.drop('Player Team (Bye)', axis = 1)\n",
    "\n",
    "stopwords = [\"\\.\", \" II\", \" III\", \" IV\", \"Defense\", \" Jr\"]\n",
    "\n",
    "\n",
    "\n",
    "fp['name'].apply(lambda x: [item for item in x if item not in stopwords])\n",
    "\n",
    "pat = r'\\b(?:{})\\b'.format('|'.join(stopwords))\n",
    "fp['name'] = fp['name'].str.replace(pat, '')\n",
    "ffc['name'] = ffc['name'].str.replace(pat, '')\n",
    "fp['name'] = fp['name'].str.replace('.', '')\n",
    "ffc['name'] = ffc['name'].str.replace('.', '')\n",
    "\n",
    "\n",
    "fp['name'] = fp['name'].str.upper()\n",
    "ffc['name'] = ffc['name'].str.upper()\n",
    "\n",
    "rem_name = []\n",
    "remainder = ffc[-ffc['name'].isin(fp['name'])]\n",
    "\n",
    "for i in range(0, len(remainder)):\n",
    "    rem_name.append( difflib.get_close_matches(remainder.iloc[i,1], fp['name'], cutoff = .55)[0])\n",
    "\n",
    "indexer = ffc[-ffc['name'].isin(fp['name'])].index\n",
    "ffc.loc[indexer, \"name\"] = rem_name\n",
    "\n",
    "\n",
    "\n",
    "df = ffc.merge(fp)\n",
    "proj = pd.read_csv('../projections.csv')\n",
    "proj = proj.dropna()\n",
    "rem_name = []\n",
    "for i in range(0, len(df)):\n",
    "    rem_name.append( difflib.get_close_matches(df.iloc[i,1], proj['name'], cutoff = .15)[0])\n",
    "\n",
    "df[\"name\"] = rem_name\n",
    "df = df[['name', 'Overall', 'AVG', 'Std.Dev', 'High', 'Low']]\n",
    "\n",
    "\n",
    "df['High'] = df['High'] + (12 * (df['High'] - 1.01) ) -.01\n",
    "df['Low'] = df['Low'] + (12 * (df['Low'] - 1.01) )\n",
    "\n",
    "df.to_csv('../adp.csv')\n",
    "\n"
   ]
  },
  {
   "cell_type": "code",
   "execution_count": null,
   "metadata": {},
   "outputs": [],
   "source": []
  }
 ],
 "metadata": {
  "kernelspec": {
   "display_name": "Python 3",
   "language": "python",
   "name": "python3"
  },
  "language_info": {
   "codemirror_mode": {
    "name": "ipython",
    "version": 3
   },
   "file_extension": ".py",
   "mimetype": "text/x-python",
   "name": "python",
   "nbconvert_exporter": "python",
   "pygments_lexer": "ipython3",
   "version": "3.7.1"
  }
 },
 "nbformat": 4,
 "nbformat_minor": 2
}
